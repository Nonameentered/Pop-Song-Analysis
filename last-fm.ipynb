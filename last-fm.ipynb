{
 "cells": [
  {
   "cell_type": "code",
   "execution_count": 168,
   "outputs": [
    {
     "name": "stdout",
     "output_type": "stream",
     "text": [
      "The dotenv extension is already loaded. To reload it, use:\n",
      "  %reload_ext dotenv\n"
     ]
    }
   ],
   "source": [
    "%load_ext dotenv\n",
    "%dotenv"
   ],
   "metadata": {
    "collapsed": false,
    "pycharm": {
     "name": "#%%\n"
    }
   }
  },
  {
   "cell_type": "code",
   "execution_count": 169,
   "outputs": [],
   "source": [
    "import os\n",
    "import sqlite3\n",
    "import pandas as pd\n",
    "import requests\n",
    "from typing import Optional\n",
    "API_KEY = str(os.getenv(\"LASTFM_KEY\"))\n",
    "API_SECRET = str(os.getenv(\"LASTFM_SECRET\"))\n",
    "headers = {\n",
    "    'user-agent': \"S&DS 230\"\n",
    "}"
   ],
   "metadata": {
    "collapsed": false,
    "pycharm": {
     "name": "#%%\n"
    }
   }
  },
  {
   "cell_type": "code",
   "execution_count": 170,
   "outputs": [],
   "source": [
    "from tqdm.auto import tqdm\n",
    "tqdm.pandas()"
   ],
   "metadata": {
    "collapsed": false,
    "pycharm": {
     "name": "#%%\n"
    }
   }
  },
  {
   "cell_type": "code",
   "execution_count": 171,
   "outputs": [
    {
     "ename": "DatabaseError",
     "evalue": "Execution failed on sql 'SELECT * FROM tracks': no such table: tracks",
     "output_type": "error",
     "traceback": [
      "\u001B[0;31m---------------------------------------------------------------------------\u001B[0m",
      "\u001B[0;31mOperationalError\u001B[0m                          Traceback (most recent call last)",
      "File \u001B[0;32m~/opt/anaconda3/envs/Country/lib/python3.10/site-packages/pandas/io/sql.py:2020\u001B[0m, in \u001B[0;36mSQLiteDatabase.execute\u001B[0;34m(self, *args, **kwargs)\u001B[0m\n\u001B[1;32m   2019\u001B[0m \u001B[38;5;28;01mtry\u001B[39;00m:\n\u001B[0;32m-> 2020\u001B[0m     \u001B[43mcur\u001B[49m\u001B[38;5;241;43m.\u001B[39;49m\u001B[43mexecute\u001B[49m\u001B[43m(\u001B[49m\u001B[38;5;241;43m*\u001B[39;49m\u001B[43margs\u001B[49m\u001B[43m,\u001B[49m\u001B[43m \u001B[49m\u001B[38;5;241;43m*\u001B[39;49m\u001B[38;5;241;43m*\u001B[39;49m\u001B[43mkwargs\u001B[49m\u001B[43m)\u001B[49m\n\u001B[1;32m   2021\u001B[0m     \u001B[38;5;28;01mreturn\u001B[39;00m cur\n",
      "\u001B[0;31mOperationalError\u001B[0m: no such table: tracks",
      "\nThe above exception was the direct cause of the following exception:\n",
      "\u001B[0;31mDatabaseError\u001B[0m                             Traceback (most recent call last)",
      "Input \u001B[0;32mIn [171]\u001B[0m, in \u001B[0;36m<cell line: 3>\u001B[0;34m()\u001B[0m\n\u001B[1;32m      1\u001B[0m SQL_FILEPATH \u001B[38;5;241m=\u001B[39m os\u001B[38;5;241m.\u001B[39mgetenv(\u001B[38;5;124m\"\u001B[39m\u001B[38;5;124mPLAYBACK_FILE\u001B[39m\u001B[38;5;124m\"\u001B[39m)\n\u001B[1;32m      2\u001B[0m lyrics_db \u001B[38;5;241m=\u001B[39m sqlite3\u001B[38;5;241m.\u001B[39mconnect(SQL_FILEPATH)\n\u001B[0;32m----> 3\u001B[0m df \u001B[38;5;241m=\u001B[39m \u001B[43mpd\u001B[49m\u001B[38;5;241;43m.\u001B[39;49m\u001B[43mread_sql_query\u001B[49m\u001B[43m(\u001B[49m\u001B[38;5;124;43m\"\u001B[39;49m\u001B[38;5;124;43mSELECT * FROM tracks\u001B[39;49m\u001B[38;5;124;43m\"\u001B[39;49m\u001B[43m,\u001B[49m\u001B[43m \u001B[49m\u001B[43mlyrics_db\u001B[49m\u001B[43m)\u001B[49m\n",
      "File \u001B[0;32m~/opt/anaconda3/envs/Country/lib/python3.10/site-packages/pandas/io/sql.py:399\u001B[0m, in \u001B[0;36mread_sql_query\u001B[0;34m(sql, con, index_col, coerce_float, params, parse_dates, chunksize, dtype)\u001B[0m\n\u001B[1;32m    341\u001B[0m \u001B[38;5;124;03m\"\"\"\u001B[39;00m\n\u001B[1;32m    342\u001B[0m \u001B[38;5;124;03mRead SQL query into a DataFrame.\u001B[39;00m\n\u001B[1;32m    343\u001B[0m \n\u001B[0;32m   (...)\u001B[0m\n\u001B[1;32m    396\u001B[0m \u001B[38;5;124;03mparameter will be converted to UTC.\u001B[39;00m\n\u001B[1;32m    397\u001B[0m \u001B[38;5;124;03m\"\"\"\u001B[39;00m\n\u001B[1;32m    398\u001B[0m pandas_sql \u001B[38;5;241m=\u001B[39m pandasSQL_builder(con)\n\u001B[0;32m--> 399\u001B[0m \u001B[38;5;28;01mreturn\u001B[39;00m \u001B[43mpandas_sql\u001B[49m\u001B[38;5;241;43m.\u001B[39;49m\u001B[43mread_query\u001B[49m\u001B[43m(\u001B[49m\n\u001B[1;32m    400\u001B[0m \u001B[43m    \u001B[49m\u001B[43msql\u001B[49m\u001B[43m,\u001B[49m\n\u001B[1;32m    401\u001B[0m \u001B[43m    \u001B[49m\u001B[43mindex_col\u001B[49m\u001B[38;5;241;43m=\u001B[39;49m\u001B[43mindex_col\u001B[49m\u001B[43m,\u001B[49m\n\u001B[1;32m    402\u001B[0m \u001B[43m    \u001B[49m\u001B[43mparams\u001B[49m\u001B[38;5;241;43m=\u001B[39;49m\u001B[43mparams\u001B[49m\u001B[43m,\u001B[49m\n\u001B[1;32m    403\u001B[0m \u001B[43m    \u001B[49m\u001B[43mcoerce_float\u001B[49m\u001B[38;5;241;43m=\u001B[39;49m\u001B[43mcoerce_float\u001B[49m\u001B[43m,\u001B[49m\n\u001B[1;32m    404\u001B[0m \u001B[43m    \u001B[49m\u001B[43mparse_dates\u001B[49m\u001B[38;5;241;43m=\u001B[39;49m\u001B[43mparse_dates\u001B[49m\u001B[43m,\u001B[49m\n\u001B[1;32m    405\u001B[0m \u001B[43m    \u001B[49m\u001B[43mchunksize\u001B[49m\u001B[38;5;241;43m=\u001B[39;49m\u001B[43mchunksize\u001B[49m\u001B[43m,\u001B[49m\n\u001B[1;32m    406\u001B[0m \u001B[43m    \u001B[49m\u001B[43mdtype\u001B[49m\u001B[38;5;241;43m=\u001B[39;49m\u001B[43mdtype\u001B[49m\u001B[43m,\u001B[49m\n\u001B[1;32m    407\u001B[0m \u001B[43m\u001B[49m\u001B[43m)\u001B[49m\n",
      "File \u001B[0;32m~/opt/anaconda3/envs/Country/lib/python3.10/site-packages/pandas/io/sql.py:2080\u001B[0m, in \u001B[0;36mSQLiteDatabase.read_query\u001B[0;34m(self, sql, index_col, coerce_float, params, parse_dates, chunksize, dtype)\u001B[0m\n\u001B[1;32m   2068\u001B[0m \u001B[38;5;28;01mdef\u001B[39;00m \u001B[38;5;21mread_query\u001B[39m(\n\u001B[1;32m   2069\u001B[0m     \u001B[38;5;28mself\u001B[39m,\n\u001B[1;32m   2070\u001B[0m     sql,\n\u001B[0;32m   (...)\u001B[0m\n\u001B[1;32m   2076\u001B[0m     dtype: DtypeArg \u001B[38;5;241m|\u001B[39m \u001B[38;5;28;01mNone\u001B[39;00m \u001B[38;5;241m=\u001B[39m \u001B[38;5;28;01mNone\u001B[39;00m,\n\u001B[1;32m   2077\u001B[0m ):\n\u001B[1;32m   2079\u001B[0m     args \u001B[38;5;241m=\u001B[39m _convert_params(sql, params)\n\u001B[0;32m-> 2080\u001B[0m     cursor \u001B[38;5;241m=\u001B[39m \u001B[38;5;28;43mself\u001B[39;49m\u001B[38;5;241;43m.\u001B[39;49m\u001B[43mexecute\u001B[49m\u001B[43m(\u001B[49m\u001B[38;5;241;43m*\u001B[39;49m\u001B[43margs\u001B[49m\u001B[43m)\u001B[49m\n\u001B[1;32m   2081\u001B[0m     columns \u001B[38;5;241m=\u001B[39m [col_desc[\u001B[38;5;241m0\u001B[39m] \u001B[38;5;28;01mfor\u001B[39;00m col_desc \u001B[38;5;129;01min\u001B[39;00m cursor\u001B[38;5;241m.\u001B[39mdescription]\n\u001B[1;32m   2083\u001B[0m     \u001B[38;5;28;01mif\u001B[39;00m chunksize \u001B[38;5;129;01mis\u001B[39;00m \u001B[38;5;129;01mnot\u001B[39;00m \u001B[38;5;28;01mNone\u001B[39;00m:\n",
      "File \u001B[0;32m~/opt/anaconda3/envs/Country/lib/python3.10/site-packages/pandas/io/sql.py:2032\u001B[0m, in \u001B[0;36mSQLiteDatabase.execute\u001B[0;34m(self, *args, **kwargs)\u001B[0m\n\u001B[1;32m   2029\u001B[0m     \u001B[38;5;28;01mraise\u001B[39;00m ex \u001B[38;5;28;01mfrom\u001B[39;00m \u001B[38;5;21;01minner_exc\u001B[39;00m\n\u001B[1;32m   2031\u001B[0m ex \u001B[38;5;241m=\u001B[39m DatabaseError(\u001B[38;5;124mf\u001B[39m\u001B[38;5;124m\"\u001B[39m\u001B[38;5;124mExecution failed on sql \u001B[39m\u001B[38;5;124m'\u001B[39m\u001B[38;5;132;01m{\u001B[39;00margs[\u001B[38;5;241m0\u001B[39m]\u001B[38;5;132;01m}\u001B[39;00m\u001B[38;5;124m'\u001B[39m\u001B[38;5;124m: \u001B[39m\u001B[38;5;132;01m{\u001B[39;00mexc\u001B[38;5;132;01m}\u001B[39;00m\u001B[38;5;124m\"\u001B[39m)\n\u001B[0;32m-> 2032\u001B[0m \u001B[38;5;28;01mraise\u001B[39;00m ex \u001B[38;5;28;01mfrom\u001B[39;00m \u001B[38;5;21;01mexc\u001B[39;00m\n",
      "\u001B[0;31mDatabaseError\u001B[0m: Execution failed on sql 'SELECT * FROM tracks': no such table: tracks"
     ]
    }
   ],
   "source": [
    "SQL_FILEPATH = os.getenv(\"PLAYBACK_FILE\")\n",
    "lyrics_db = sqlite3.connect(SQL_FILEPATH)\n",
    "df = pd.read_sql_query(\"SELECT * FROM tracks\", lyrics_db)"
   ],
   "metadata": {
    "collapsed": false,
    "pycharm": {
     "name": "#%%\n"
    }
   }
  },
  {
   "cell_type": "code",
   "execution_count": null,
   "outputs": [],
   "source": [
    "from difflib import SequenceMatcher\n",
    "\n",
    "# Modified from: https://stackoverflow.com/a/17388505\n",
    "def match(orig_name, found_name):\n",
    "    return SequenceMatcher(None, orig_name, found_name).ratio()"
   ],
   "metadata": {
    "collapsed": false,
    "pycharm": {
     "name": "#%%\n"
    }
   }
  },
  {
   "cell_type": "code",
   "execution_count": null,
   "outputs": [],
   "source": [
    "match(\"B.o.B & Hayley Williams\", \"B.o.B\")"
   ],
   "metadata": {
    "collapsed": false,
    "pycharm": {
     "name": "#%%\n"
    }
   }
  },
  {
   "cell_type": "code",
   "execution_count": 173,
   "outputs": [],
   "source": [
    "# Improve: search for tracks where last.fm artist is similar to the searched artist but has more listener count\n",
    "def find_track(track: str, artist: Optional[str] = None):\n",
    "    MIN_LISTEN = 100\n",
    "    payload = {\n",
    "        'api_key': API_KEY,\n",
    "        'method': 'track.search',\n",
    "        'format': 'json',\n",
    "        'track': track,\n",
    "    }\n",
    "    no_artist = query_lastfm(payload)\n",
    "    w_artist = None\n",
    "    # print(no_artist)\n",
    "    if artist and no_artist:\n",
    "        payloadArtist = payload\n",
    "        payloadArtist[\"artist\"] = artist\n",
    "        w_artist = query_lastfm(payloadArtist)\n",
    "    return_payload = None\n",
    "    if no_artist and w_artist:\n",
    "        if w_artist[\"last_fm_listeners\"] > MIN_LISTEN and w_artist[\"last_fm_listeners\"] * 100 > no_artist[\"last_fm_listeners\"] :\n",
    "            return_payload = w_artist\n",
    "        elif no_artist[\"last_fm_listeners\"] > MIN_LISTEN and match(no_artist[\"artist\"], artist) > .25:\n",
    "            return_payload = no_artist\n",
    "    elif w_artist and w_artist[\"last_fm_listeners\"] > MIN_LISTEN:\n",
    "        return_payload = w_artist\n",
    "    elif no_artist and no_artist[\"last_fm_listeners\"] > MIN_LISTEN and match(no_artist[\"artist\"], artist) > .25:\n",
    "        return_payload = no_artist\n",
    "    # print(\"RETURN PAYLOAD\")\n",
    "    # print(return_payload)\n",
    "    return return_payload\n",
    "    # B.o.B & Hayley Williams"
   ],
   "metadata": {
    "collapsed": false,
    "pycharm": {
     "name": "#%%\n"
    }
   }
  },
  {
   "cell_type": "code",
   "execution_count": 174,
   "outputs": [],
   "source": [
    "def query_lastfm(payload):\n",
    "    try:\n",
    "        r = requests.get('https://ws.audioscrobbler.com/2.0/', headers=headers, params=payload)\n",
    "        if r.status_code != 200:\n",
    "            return None\n",
    "        num_results = int(r.json()[\"results\"][\"opensearch:totalResults\"])\n",
    "        if num_results > 0:\n",
    "            matches = r.json()[\"results\"][\"trackmatches\"][\"track\"][0][\"url\"]\n",
    "            listeners = int(r.json()[\"results\"][\"trackmatches\"][\"track\"][0][\"listeners\"])\n",
    "            artist = r.json()[\"results\"][\"trackmatches\"][\"track\"][0][\"artist\"]\n",
    "            return {\"last_fm_url\": matches, \"last_fm_listeners\": listeners, \"artist\": artist}\n",
    "        else:\n",
    "            return None\n",
    "    except requests.exceptions.RequestException as e:  # This is the correct syntax\n",
    "        return None"
   ],
   "metadata": {
    "collapsed": false,
    "pycharm": {
     "name": "#%%\n"
    }
   }
  },
  {
   "cell_type": "code",
   "execution_count": 175,
   "outputs": [],
   "source": [
    "def find_track_series(series):\n",
    "    track_data = find_track(series[\"track\"], series[\"artist\"])\n",
    "    if track_data:\n",
    "        series[\"last_fm_url\"] = track_data[\"last_fm_url\"]\n",
    "        series[\"last_fm_listeners\"] = track_data[\"last_fm_listeners\"]\n",
    "    else:\n",
    "        series[\"last_fm_url\"] = None\n",
    "        series[\"last_fm_listeners\"] = None\n",
    "    return series"
   ],
   "metadata": {
    "collapsed": false,
    "pycharm": {
     "name": "#%%\n"
    }
   }
  },
  {
   "cell_type": "code",
   "execution_count": 176,
   "outputs": [
    {
     "data": {
      "text/plain": "  0%|          | 0/3595 [00:00<?, ?it/s]",
      "application/vnd.jupyter.widget-view+json": {
       "version_major": 2,
       "version_minor": 0,
       "model_id": "b16d3d3ad8fd4a23a71046871f634393"
      }
     },
     "metadata": {},
     "output_type": "display_data"
    }
   ],
   "source": [
    "df = df.progress_apply(find_track_series, axis=1)"
   ],
   "metadata": {
    "collapsed": false,
    "pycharm": {
     "name": "#%%\n"
    }
   }
  },
  {
   "cell_type": "markdown",
   "source": [],
   "metadata": {
    "collapsed": false
   }
  },
  {
   "cell_type": "code",
   "execution_count": 181,
   "outputs": [
    {
     "data": {
      "text/plain": "3595"
     },
     "execution_count": 181,
     "metadata": {},
     "output_type": "execute_result"
    }
   ],
   "source": [
    "df.drop(\"level_0\", axis=1).drop(\"index\", axis=1).to_sql(\"tracks\", lyrics_db, if_exists=\"replace\")"
   ],
   "metadata": {
    "collapsed": false,
    "pycharm": {
     "name": "#%%\n"
    }
   }
  },
  {
   "cell_type": "code",
   "execution_count": null,
   "outputs": [],
   "source": [
    "find_track(\"Show Me the Meaning of Being Lonely\", \"The Backstreet Boys\")"
   ],
   "metadata": {
    "collapsed": false,
    "pycharm": {
     "name": "#%%\n"
    }
   }
  },
  {
   "cell_type": "code",
   "execution_count": 180,
   "outputs": [
    {
     "data": {
      "text/plain": "      track_id  year                        artist  \\\n0            0  1985                USA For Africa   \n1            1  1985                          A-Ha   \n2            2  1985                     Foreigner   \n3            3  1985               Tears For Fears   \n4            4  1985                 Lionel Richie   \n...        ...   ...                           ...   \n3590      3590  2021   Marshmello & Jonas Brothers   \n3591      3591  2021                      Maneskin   \n3592      3592  2021      Chris Young + Kane Brown   \n3593      3593  2021  Nelly & Florida Georgia Line   \n3594      3594  2021           Megan Thee Stallion   \n\n                            track  rank  \\\n0                We Are the World     1   \n1                      Take On Me     2   \n2     I Want to Know What Love Is     3   \n3                           Shout     4   \n4                 Say You, Say Me     5   \n...                           ...   ...   \n3590     Leave Before You Love Me    96   \n3591                       Beggin    97   \n3592               Famous Friends    98   \n3593                      Lil Bit    99   \n3594                    Thot Shit   100   \n\n                                                   link  \\\n0     /charts/top-100-songs/video/1985/USA-For-Afric...   \n1       /charts/top-100-songs/video/1985/AHa-Take-On-Me   \n2     /charts/top-100-songs/video/1985/Foreigner-I-W...   \n3     /charts/top-100-songs/video/1985/Tears-For-Fea...   \n4     /charts/top-100-songs/video/1985/Lionel-Richie...   \n...                                                 ...   \n3590  /charts/top-100-songs/video/2021/Marshmello--J...   \n3591   /charts/top-100-songs/video/2021/Maneskin-Beggin   \n3592  /charts/top-100-songs/video/2021/Chris-Young--...   \n3593  /charts/top-100-songs/video/2021/Nelly--Florid...   \n3594  /charts/top-100-songs/video/2021/Megan-Thee-St...   \n\n                                                 lyrics  artist_id  \\\n0     We Are the World Lyrics\\nThere comes a time wh...          1   \n1                                                  None          2   \n2     I Want to Know What Love Is Lyrics\\nI've gotta...          3   \n3     Shout Lyrics\\nShout, shout, let it all out\\nTh...          4   \n4     Say You, Say Me Lyrics\\nSay you, say me\\nSay i...          5   \n...                                                 ...        ...   \n3590  Leave Before You Love Me Lyrics\\nI see you cal...       1808   \n3591  Beggin’ Lyrics\\nPut your loving hand out, baby...       1809   \n3592  Famous Friends Lyrics\\nMy buddy Brandon holds ...       1810   \n3593  Lil Bit Lyrics\\nWhat up, Nelly?\\nYou ready to ...       1811   \n3594  Thot Shit Lyrics\\n(OG Parker)\\n(And if the bea...       1708   \n\n      artist_appearances                                        last_fm_url  \\\n0                      1  https://www.last.fm/music/USA+for+Africa/_/We+...   \n1                      4        https://www.last.fm/music/a-ha/_/Take+on+Me   \n2                      1  https://www.last.fm/music/Foreigner/_/I+Want+t...   \n3                      5  https://www.last.fm/music/Tears+for+Fears/_/Shout   \n4                      3  https://www.last.fm/music/Lionel+Richie/_/Say+...   \n...                  ...                                                ...   \n3590                   1  https://www.last.fm/music/Marshmello+&+Jonas+B...   \n3591                   1  https://www.last.fm/music/M%C3%A5neskin/_/Begg...   \n3592                   1  https://www.last.fm/music/Chris+Young/_/Famous...   \n3593                   1                                               None   \n3594                   3  https://www.last.fm/music/Megan+Thee+Stallion/...   \n\n      last_fm_listeners  \n0               83127.0  \n1             1545502.0  \n2              469941.0  \n3              662279.0  \n4              232323.0  \n...                 ...  \n3590             4989.0  \n3591           440454.0  \n3592            17698.0  \n3593                NaN  \n3594           264879.0  \n\n[3595 rows x 11 columns]",
      "text/html": "<div>\n<style scoped>\n    .dataframe tbody tr th:only-of-type {\n        vertical-align: middle;\n    }\n\n    .dataframe tbody tr th {\n        vertical-align: top;\n    }\n\n    .dataframe thead th {\n        text-align: right;\n    }\n</style>\n<table border=\"1\" class=\"dataframe\">\n  <thead>\n    <tr style=\"text-align: right;\">\n      <th></th>\n      <th>track_id</th>\n      <th>year</th>\n      <th>artist</th>\n      <th>track</th>\n      <th>rank</th>\n      <th>link</th>\n      <th>lyrics</th>\n      <th>artist_id</th>\n      <th>artist_appearances</th>\n      <th>last_fm_url</th>\n      <th>last_fm_listeners</th>\n    </tr>\n  </thead>\n  <tbody>\n    <tr>\n      <th>0</th>\n      <td>0</td>\n      <td>1985</td>\n      <td>USA For Africa</td>\n      <td>We Are the World</td>\n      <td>1</td>\n      <td>/charts/top-100-songs/video/1985/USA-For-Afric...</td>\n      <td>We Are the World Lyrics\\nThere comes a time wh...</td>\n      <td>1</td>\n      <td>1</td>\n      <td>https://www.last.fm/music/USA+for+Africa/_/We+...</td>\n      <td>83127.0</td>\n    </tr>\n    <tr>\n      <th>1</th>\n      <td>1</td>\n      <td>1985</td>\n      <td>A-Ha</td>\n      <td>Take On Me</td>\n      <td>2</td>\n      <td>/charts/top-100-songs/video/1985/AHa-Take-On-Me</td>\n      <td>None</td>\n      <td>2</td>\n      <td>4</td>\n      <td>https://www.last.fm/music/a-ha/_/Take+on+Me</td>\n      <td>1545502.0</td>\n    </tr>\n    <tr>\n      <th>2</th>\n      <td>2</td>\n      <td>1985</td>\n      <td>Foreigner</td>\n      <td>I Want to Know What Love Is</td>\n      <td>3</td>\n      <td>/charts/top-100-songs/video/1985/Foreigner-I-W...</td>\n      <td>I Want to Know What Love Is Lyrics\\nI've gotta...</td>\n      <td>3</td>\n      <td>1</td>\n      <td>https://www.last.fm/music/Foreigner/_/I+Want+t...</td>\n      <td>469941.0</td>\n    </tr>\n    <tr>\n      <th>3</th>\n      <td>3</td>\n      <td>1985</td>\n      <td>Tears For Fears</td>\n      <td>Shout</td>\n      <td>4</td>\n      <td>/charts/top-100-songs/video/1985/Tears-For-Fea...</td>\n      <td>Shout Lyrics\\nShout, shout, let it all out\\nTh...</td>\n      <td>4</td>\n      <td>5</td>\n      <td>https://www.last.fm/music/Tears+for+Fears/_/Shout</td>\n      <td>662279.0</td>\n    </tr>\n    <tr>\n      <th>4</th>\n      <td>4</td>\n      <td>1985</td>\n      <td>Lionel Richie</td>\n      <td>Say You, Say Me</td>\n      <td>5</td>\n      <td>/charts/top-100-songs/video/1985/Lionel-Richie...</td>\n      <td>Say You, Say Me Lyrics\\nSay you, say me\\nSay i...</td>\n      <td>5</td>\n      <td>3</td>\n      <td>https://www.last.fm/music/Lionel+Richie/_/Say+...</td>\n      <td>232323.0</td>\n    </tr>\n    <tr>\n      <th>...</th>\n      <td>...</td>\n      <td>...</td>\n      <td>...</td>\n      <td>...</td>\n      <td>...</td>\n      <td>...</td>\n      <td>...</td>\n      <td>...</td>\n      <td>...</td>\n      <td>...</td>\n      <td>...</td>\n    </tr>\n    <tr>\n      <th>3590</th>\n      <td>3590</td>\n      <td>2021</td>\n      <td>Marshmello &amp; Jonas Brothers</td>\n      <td>Leave Before You Love Me</td>\n      <td>96</td>\n      <td>/charts/top-100-songs/video/2021/Marshmello--J...</td>\n      <td>Leave Before You Love Me Lyrics\\nI see you cal...</td>\n      <td>1808</td>\n      <td>1</td>\n      <td>https://www.last.fm/music/Marshmello+&amp;+Jonas+B...</td>\n      <td>4989.0</td>\n    </tr>\n    <tr>\n      <th>3591</th>\n      <td>3591</td>\n      <td>2021</td>\n      <td>Maneskin</td>\n      <td>Beggin</td>\n      <td>97</td>\n      <td>/charts/top-100-songs/video/2021/Maneskin-Beggin</td>\n      <td>Beggin’ Lyrics\\nPut your loving hand out, baby...</td>\n      <td>1809</td>\n      <td>1</td>\n      <td>https://www.last.fm/music/M%C3%A5neskin/_/Begg...</td>\n      <td>440454.0</td>\n    </tr>\n    <tr>\n      <th>3592</th>\n      <td>3592</td>\n      <td>2021</td>\n      <td>Chris Young + Kane Brown</td>\n      <td>Famous Friends</td>\n      <td>98</td>\n      <td>/charts/top-100-songs/video/2021/Chris-Young--...</td>\n      <td>Famous Friends Lyrics\\nMy buddy Brandon holds ...</td>\n      <td>1810</td>\n      <td>1</td>\n      <td>https://www.last.fm/music/Chris+Young/_/Famous...</td>\n      <td>17698.0</td>\n    </tr>\n    <tr>\n      <th>3593</th>\n      <td>3593</td>\n      <td>2021</td>\n      <td>Nelly &amp; Florida Georgia Line</td>\n      <td>Lil Bit</td>\n      <td>99</td>\n      <td>/charts/top-100-songs/video/2021/Nelly--Florid...</td>\n      <td>Lil Bit Lyrics\\nWhat up, Nelly?\\nYou ready to ...</td>\n      <td>1811</td>\n      <td>1</td>\n      <td>None</td>\n      <td>NaN</td>\n    </tr>\n    <tr>\n      <th>3594</th>\n      <td>3594</td>\n      <td>2021</td>\n      <td>Megan Thee Stallion</td>\n      <td>Thot Shit</td>\n      <td>100</td>\n      <td>/charts/top-100-songs/video/2021/Megan-Thee-St...</td>\n      <td>Thot Shit Lyrics\\n(OG Parker)\\n(And if the bea...</td>\n      <td>1708</td>\n      <td>3</td>\n      <td>https://www.last.fm/music/Megan+Thee+Stallion/...</td>\n      <td>264879.0</td>\n    </tr>\n  </tbody>\n</table>\n<p>3595 rows × 11 columns</p>\n</div>"
     },
     "execution_count": 180,
     "metadata": {},
     "output_type": "execute_result"
    }
   ],
   "source": [],
   "metadata": {
    "collapsed": false,
    "pycharm": {
     "name": "#%%\n"
    }
   }
  },
  {
   "cell_type": "code",
   "execution_count": null,
   "outputs": [],
   "source": [],
   "metadata": {
    "collapsed": false,
    "pycharm": {
     "name": "#%%\n"
    }
   }
  }
 ],
 "metadata": {
  "kernelspec": {
   "name": "python3102jvsc74a57bd027746e818e79c47ba5cd0cb9e390b8fab72e028b2cf3835065a69537fa10f347",
   "language": "python",
   "display_name": "Python 3.10.2 ('Country')"
  },
  "language_info": {
   "codemirror_mode": {
    "name": "ipython",
    "version": 2
   },
   "file_extension": ".py",
   "mimetype": "text/x-python",
   "name": "python",
   "nbconvert_exporter": "python",
   "pygments_lexer": "ipython2",
   "version": "2.7.6"
  }
 },
 "nbformat": 4,
 "nbformat_minor": 0
}