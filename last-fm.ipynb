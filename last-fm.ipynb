{
 "cells": [
  {
   "cell_type": "code",
   "execution_count": 91,
   "outputs": [
    {
     "name": "stdout",
     "output_type": "stream",
     "text": [
      "The dotenv extension is already loaded. To reload it, use:\n",
      "  %reload_ext dotenv\n"
     ]
    }
   ],
   "source": [
    "%load_ext dotenv\n",
    "%dotenv"
   ],
   "metadata": {
    "collapsed": false,
    "pycharm": {
     "name": "#%%\n"
    }
   }
  },
  {
   "cell_type": "code",
   "execution_count": 92,
   "outputs": [],
   "source": [
    "import os\n",
    "import sqlite3\n",
    "import pandas as pd\n",
    "import requests\n",
    "from typing import Optional\n",
    "API_KEY = str(os.getenv(\"LASTFM_KEY\"))\n",
    "API_SECRET = str(os.getenv(\"LASTFM_SECRET\"))\n",
    "headers = {\n",
    "    'user-agent': \"S&DS 230\"\n",
    "}"
   ],
   "metadata": {
    "collapsed": false,
    "pycharm": {
     "name": "#%%\n"
    }
   }
  },
  {
   "cell_type": "code",
   "execution_count": 93,
   "outputs": [],
   "source": [
    "from tqdm.auto import tqdm\n",
    "tqdm.pandas()"
   ],
   "metadata": {
    "collapsed": false,
    "pycharm": {
     "name": "#%%\n"
    }
   }
  },
  {
   "cell_type": "code",
   "execution_count": 94,
   "outputs": [],
   "source": [
    "SQL_FILEPATH = os.getenv(\"PLAYBACK_FILE\")\n",
    "lyrics_db = sqlite3.connect(SQL_FILEPATH)\n",
    "df = pd.read_sql_query(\"SELECT * FROM tracks\", lyrics_db)"
   ],
   "metadata": {
    "collapsed": false,
    "pycharm": {
     "name": "#%%\n"
    }
   }
  },
  {
   "cell_type": "code",
   "execution_count": 95,
   "outputs": [],
   "source": [
    "from difflib import SequenceMatcher\n",
    "\n",
    "# Modified from: https://stackoverflow.com/a/17388505\n",
    "def match(orig_name, found_name):\n",
    "    return SequenceMatcher(None, orig_name, found_name).ratio()"
   ],
   "metadata": {
    "collapsed": false,
    "pycharm": {
     "name": "#%%\n"
    }
   }
  },
  {
   "cell_type": "code",
   "execution_count": 96,
   "outputs": [
    {
     "data": {
      "text/plain": "0.35714285714285715"
     },
     "execution_count": 96,
     "metadata": {},
     "output_type": "execute_result"
    }
   ],
   "source": [
    "match(\"B.o.B & Hayley Williams\", \"B.o.B\")"
   ],
   "metadata": {
    "collapsed": false,
    "pycharm": {
     "name": "#%%\n"
    }
   }
  },
  {
   "cell_type": "code",
   "execution_count": 97,
   "outputs": [],
   "source": [
    "# Improve: search for tracks where last.fm artist is similar to the searched artist but has more listener count\n",
    "def find_track(track: str, artist: Optional[str] = None):\n",
    "    MIN_LISTEN = 100\n",
    "    payload = {\n",
    "        'api_key': API_KEY,\n",
    "        'method': 'track.search',\n",
    "        'format': 'json',\n",
    "        'track': track,\n",
    "    }\n",
    "    no_artist = query_lastfm(payload)\n",
    "    w_artist = None\n",
    "    if artist and no_artist:\n",
    "        payloadArtist = payload\n",
    "        payloadArtist[\"artist\"] = artist\n",
    "        w_artist = query_lastfm(payloadArtist)\n",
    "    return_payload = None\n",
    "    if no_artist and w_artist:\n",
    "        if w_artist[\"last_fm_listeners\"] > MIN_LISTEN:\n",
    "            return_payload = w_artist\n",
    "        elif no_artist[\"last_fm_listeners\"] > MIN_LISTEN and match(no_artist[\"artist\"], artist) > .25:\n",
    "            return_payload = w_artist\n",
    "    elif w_artist and w_artist[\"last_fm_listeners\"] > MIN_LISTEN:\n",
    "        return_payload = w_artist\n",
    "    elif no_artist and no_artist[\"last_fm_listeners\"] > MIN_LISTEN and match(no_artist[\"artist\"], artist) > .25:\n",
    "        return_payload = no_artist\n",
    "    return return_payload\n",
    "    # B.o.B & Hayley Williams"
   ],
   "metadata": {
    "collapsed": false,
    "pycharm": {
     "name": "#%%\n"
    }
   }
  },
  {
   "cell_type": "code",
   "execution_count": 98,
   "outputs": [],
   "source": [
    "def query_lastfm(payload):\n",
    "    try:\n",
    "        r = requests.get('https://ws.audioscrobbler.com/2.0/', headers=headers, params=payload)\n",
    "        if r.status_code != 200:\n",
    "            return None\n",
    "        numResults = int(r.json()[\"results\"][\"opensearch:totalResults\"])\n",
    "        if numResults > 0:\n",
    "            matches = r.json()[\"results\"][\"trackmatches\"][\"track\"][0][\"url\"]\n",
    "            listeners = int(r.json()[\"results\"][\"trackmatches\"][\"track\"][0][\"listeners\"])\n",
    "            artist = r.json()[\"results\"][\"trackmatches\"][\"track\"][0][\"artist\"]\n",
    "            return {\"last_fm_url\": matches, \"last_fm_listeners\": listeners, \"artist\": artist}\n",
    "        else:\n",
    "            return None\n",
    "    except requests.exceptions.RequestException as e:  # This is the correct syntax\n",
    "        return None"
   ],
   "metadata": {
    "collapsed": false,
    "pycharm": {
     "name": "#%%\n"
    }
   }
  },
  {
   "cell_type": "code",
   "execution_count": 102,
   "outputs": [],
   "source": [
    "def find_track_series(series):\n",
    "    track_data = find_track(series[\"track\"], series[\"artist\"])\n",
    "    if track_data:\n",
    "        series[\"last_fm_url\"] = track_data[\"last_fm_url\"]\n",
    "        series[\"last_fm_listeners\"] = track_data[\"last_fm_listeners\"]\n",
    "    else:\n",
    "        series[\"last_fm_url\"] = None\n",
    "        series[\"last_fm_listeners\"] = None\n",
    "    return series"
   ],
   "metadata": {
    "collapsed": false,
    "pycharm": {
     "name": "#%%\n"
    }
   }
  },
  {
   "cell_type": "code",
   "execution_count": null,
   "outputs": [
    {
     "data": {
      "text/plain": "  0%|          | 0/3595 [00:00<?, ?it/s]",
      "application/vnd.jupyter.widget-view+json": {
       "version_major": 2,
       "version_minor": 0,
       "model_id": "18a91d7dfbc544168091654e127107f8"
      }
     },
     "metadata": {},
     "output_type": "display_data"
    }
   ],
   "source": [
    "df = df.progress_apply(find_track_series, axis=1).drop(\"level_0\", axis=1).drop(\"index\", axis=1)"
   ],
   "metadata": {
    "collapsed": false,
    "pycharm": {
     "name": "#%%\n",
     "is_executing": true
    }
   }
  },
  {
   "cell_type": "markdown",
   "source": [],
   "metadata": {
    "collapsed": false
   }
  },
  {
   "cell_type": "code",
   "execution_count": 9,
   "outputs": [
    {
     "data": {
      "text/plain": "3595"
     },
     "execution_count": 9,
     "metadata": {},
     "output_type": "execute_result"
    }
   ],
   "source": [
    "df.to_sql(\"tracks\", lyrics_db, if_exists=\"replace\")"
   ],
   "metadata": {
    "collapsed": false,
    "pycharm": {
     "name": "#%%\n"
    }
   }
  },
  {
   "cell_type": "code",
   "execution_count": 73,
   "outputs": [
    {
     "name": "stdout",
     "output_type": "stream",
     "text": [
      "{'last_fm_url': 'https://www.last.fm/music/I.F.K./_/37623', 'last_fm_listeners': 35, 'artist': 'I.F.K.'}\n",
      "None\n"
     ]
    }
   ],
   "source": [
    "find_track(\"37623\", \"Gloria Estefan & Miami Sound Machine\")"
   ],
   "metadata": {
    "collapsed": false,
    "pycharm": {
     "name": "#%%\n"
    }
   }
  },
  {
   "cell_type": "code",
   "execution_count": null,
   "outputs": [],
   "source": [],
   "metadata": {
    "collapsed": false,
    "pycharm": {
     "name": "#%%\n"
    }
   }
  }
 ],
 "metadata": {
  "kernelspec": {
   "name": "python3102jvsc74a57bd027746e818e79c47ba5cd0cb9e390b8fab72e028b2cf3835065a69537fa10f347",
   "language": "python",
   "display_name": "Python 3.10.2 ('Country')"
  },
  "language_info": {
   "codemirror_mode": {
    "name": "ipython",
    "version": 2
   },
   "file_extension": ".py",
   "mimetype": "text/x-python",
   "name": "python",
   "nbconvert_exporter": "python",
   "pygments_lexer": "ipython2",
   "version": "2.7.6"
  }
 },
 "nbformat": 4,
 "nbformat_minor": 0
}