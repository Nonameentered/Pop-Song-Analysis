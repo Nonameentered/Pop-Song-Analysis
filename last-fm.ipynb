{
 "cells": [
  {
   "cell_type": "code",
   "execution_count": 2,
   "outputs": [
    {
     "name": "stdout",
     "output_type": "stream",
     "text": [
      "The dotenv extension is already loaded. To reload it, use:\n",
      "  %reload_ext dotenv\n"
     ]
    }
   ],
   "source": [
    "%load_ext dotenv\n",
    "%dotenv"
   ],
   "metadata": {
    "collapsed": false,
    "pycharm": {
     "name": "#%%\n"
    }
   }
  },
  {
   "cell_type": "code",
   "execution_count": 3,
   "outputs": [],
   "source": [
    "import os\n",
    "import sqlite3\n",
    "import pandas as pd\n",
    "import requests\n",
    "API_KEY = str(os.getenv(\"LASTFM_KEY\"))\n",
    "API_SECRET = str(os.getenv(\"LASTFM_SECRET\"))\n",
    "headers = {\n",
    "    'user-agent': \"S&DS 230\"\n",
    "}"
   ],
   "metadata": {
    "collapsed": false,
    "pycharm": {
     "name": "#%%\n"
    }
   }
  },
  {
   "cell_type": "code",
   "execution_count": 4,
   "outputs": [],
   "source": [
    "from tqdm.auto import tqdm\n",
    "tqdm.pandas()"
   ],
   "metadata": {
    "collapsed": false,
    "pycharm": {
     "name": "#%%\n"
    }
   }
  },
  {
   "cell_type": "code",
   "execution_count": 5,
   "outputs": [],
   "source": [
    "SQL_FILEPATH = os.getenv(\"PLAYBACK_FILE\")\n",
    "lyrics_db = sqlite3.connect(SQL_FILEPATH)\n",
    "df = pd.read_sql_query(\"SELECT * FROM tracks\", lyrics_db)"
   ],
   "metadata": {
    "collapsed": false,
    "pycharm": {
     "name": "#%%\n"
    }
   }
  },
  {
   "cell_type": "code",
   "execution_count": 6,
   "outputs": [],
   "source": [
    "def find_track(artist: str, track: str):\n",
    "    payload = {\n",
    "        'api_key': API_KEY,\n",
    "        'method': 'track.search',\n",
    "        'format': 'json',\n",
    "        'track': track,\n",
    "        'artist': artist,\n",
    "    }\n",
    "    try:\n",
    "        r = requests.get('https://ws.audioscrobbler.com/2.0/', headers=headers, params=payload)\n",
    "        if r.status_code != 200:\n",
    "            return None\n",
    "        numResults = int(r.json()[\"results\"][\"opensearch:totalResults\"])\n",
    "        if numResults > 0:\n",
    "            matches = r.json()[\"results\"][\"trackmatches\"][\"track\"][0][\"url\"]\n",
    "            listeners = r.json()[\"results\"][\"trackmatches\"][\"track\"][0][\"listeners\"]\n",
    "            return {\"last_fm_url\": matches, \"last_fm_listeners\": listeners}\n",
    "        else:\n",
    "            return None\n",
    "    except requests.exceptions.RequestException as e:  # This is the correct syntax\n",
    "        return None"
   ],
   "metadata": {
    "collapsed": false,
    "pycharm": {
     "name": "#%%\n"
    }
   }
  },
  {
   "cell_type": "code",
   "execution_count": 7,
   "outputs": [],
   "source": [
    "def find_track_series(series):\n",
    "    track_data = find_track(series[\"artist\"], series[\"track\"])\n",
    "    if track_data:\n",
    "        series[\"last_fm_url\"] = track_data[\"last_fm_url\"]\n",
    "        series[\"last_fm_listeners\"] = track_data[\"last_fm_listeners\"]\n",
    "    else:\n",
    "        series[\"last_fm_url\"] = None\n",
    "        series[\"last_fm_listeners\"] = None\n",
    "    return series"
   ],
   "metadata": {
    "collapsed": false,
    "pycharm": {
     "name": "#%%\n"
    }
   }
  },
  {
   "cell_type": "code",
   "execution_count": 8,
   "outputs": [
    {
     "data": {
      "text/plain": "  0%|          | 0/3595 [00:00<?, ?it/s]",
      "application/vnd.jupyter.widget-view+json": {
       "version_major": 2,
       "version_minor": 0,
       "model_id": "66c7389fc4664d3bb9d3b259ddb30297"
      }
     },
     "metadata": {},
     "output_type": "display_data"
    }
   ],
   "source": [
    "df = df.progress_apply(find_track_series, axis=1).drop(\"level_0\", axis=1).drop(\"index\", axis=1)"
   ],
   "metadata": {
    "collapsed": false,
    "pycharm": {
     "name": "#%%\n"
    }
   }
  },
  {
   "cell_type": "markdown",
   "source": [],
   "metadata": {
    "collapsed": false
   }
  },
  {
   "cell_type": "code",
   "execution_count": 9,
   "outputs": [
    {
     "data": {
      "text/plain": "3595"
     },
     "execution_count": 9,
     "metadata": {},
     "output_type": "execute_result"
    }
   ],
   "source": [
    "df.to_sql(\"tracks\", lyrics_db, if_exists=\"replace\")"
   ],
   "metadata": {
    "collapsed": false,
    "pycharm": {
     "name": "#%%\n"
    }
   }
  }
 ],
 "metadata": {
  "kernelspec": {
   "name": "python3102jvsc74a57bd027746e818e79c47ba5cd0cb9e390b8fab72e028b2cf3835065a69537fa10f347",
   "language": "python",
   "display_name": "Python 3.10.2 ('Country')"
  },
  "language_info": {
   "codemirror_mode": {
    "name": "ipython",
    "version": 2
   },
   "file_extension": ".py",
   "mimetype": "text/x-python",
   "name": "python",
   "nbconvert_exporter": "python",
   "pygments_lexer": "ipython2",
   "version": "2.7.6"
  }
 },
 "nbformat": 4,
 "nbformat_minor": 0
}