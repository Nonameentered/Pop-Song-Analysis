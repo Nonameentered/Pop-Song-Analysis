{
 "cells": [
  {
   "cell_type": "code",
   "execution_count": 1,
   "metadata": {
    "collapsed": false,
    "jupyter": {
     "outputs_hidden": false
    },
    "pycharm": {
     "name": "#%%\n"
    }
   },
   "outputs": [],
   "source": [
    "%load_ext dotenv\n",
    "%dotenv"
   ]
  },
  {
   "cell_type": "code",
   "execution_count": 2,
   "metadata": {
    "collapsed": false,
    "jupyter": {
     "outputs_hidden": false
    },
    "pycharm": {
     "name": "#%%\n"
    }
   },
   "outputs": [],
   "source": [
    "import lyricsgenius\n",
    "genius = lyricsgenius.Genius()\n",
    "genius.verbose = False\n",
    "genius.remove_section_headers = True\n",
    "genius.skip_non_songs = True"
   ]
  },
  {
   "cell_type": "code",
   "execution_count": 3,
   "metadata": {
    "collapsed": false,
    "jupyter": {
     "outputs_hidden": false
    },
    "pycharm": {
     "name": "#%%\n"
    }
   },
   "outputs": [],
   "source": [
    "from tqdm.auto import tqdm\n",
    "tqdm.pandas()"
   ]
  },
  {
   "cell_type": "code",
   "execution_count": 4,
   "metadata": {
    "collapsed": false,
    "jupyter": {
     "outputs_hidden": false
    },
    "pycharm": {
     "name": "#%%\n"
    }
   },
   "outputs": [],
   "source": [
    "import sqlite3\n",
    "import os\n",
    "import pickle"
   ]
  },
  {
   "cell_type": "code",
   "execution_count": 5,
   "metadata": {
    "collapsed": false,
    "jupyter": {
     "outputs_hidden": false
    },
    "pycharm": {
     "name": "#%%\n"
    }
   },
   "outputs": [
    {
     "name": "stdout",
     "output_type": "stream",
     "text": [
      "22-04-29-playback-fm-top-pop.db\n"
     ]
    }
   ],
   "source": [
    "SQL_FILEPATH = os.getenv(\"PLAYBACK_FILE\")\n",
    "print(SQL_FILEPATH)\n",
    "lyrics_db = sqlite3.connect(SQL_FILEPATH)"
   ]
  },
  {
   "cell_type": "code",
   "execution_count": 6,
   "metadata": {
    "collapsed": false,
    "jupyter": {
     "outputs_hidden": false
    },
    "pycharm": {
     "name": "#%%\n"
    }
   },
   "outputs": [],
   "source": [
    "# Load Data"
   ]
  },
  {
   "cell_type": "code",
   "execution_count": 7,
   "metadata": {
    "collapsed": false,
    "jupyter": {
     "outputs_hidden": false
    },
    "pycharm": {
     "name": "#%%\n"
    }
   },
   "outputs": [
    {
     "name": "stdout",
     "output_type": "stream",
     "text": [
      "   index  year           artist                        track  rank  \\\n",
      "0      0  1985   USA For Africa             We Are the World     1   \n",
      "1      1  1985             A-Ha                   Take On Me     2   \n",
      "2      2  1985        Foreigner  I Want to Know What Love Is     3   \n",
      "3      3  1985  Tears For Fears                        Shout     4   \n",
      "4      4  1985    Lionel Richie              Say You, Say Me     5   \n",
      "\n",
      "                                                link  \n",
      "0  /charts/top-100-songs/video/1985/USA-For-Afric...  \n",
      "1    /charts/top-100-songs/video/1985/AHa-Take-On-Me  \n",
      "2  /charts/top-100-songs/video/1985/Foreigner-I-W...  \n",
      "3  /charts/top-100-songs/video/1985/Tears-For-Fea...  \n",
      "4  /charts/top-100-songs/video/1985/Lionel-Richie...  \n"
     ]
    }
   ],
   "source": [
    "import pandas as pd\n",
    "df = pd.read_sql_query(\"SELECT * FROM tracks\", lyrics_db)\n",
    "print(df.head())"
   ]
  },
  {
   "cell_type": "markdown",
   "metadata": {
    "pycharm": {
     "name": "#%% md\n"
    }
   },
   "source": [
    "## Create Unique Songs Dataframe"
   ]
  },
  {
   "cell_type": "code",
   "execution_count": 8,
   "metadata": {
    "collapsed": false,
    "jupyter": {
     "outputs_hidden": false
    },
    "pycharm": {
     "name": "#%%\n"
    }
   },
   "outputs": [],
   "source": [
    "df.rename(columns = {'index':'track_id'}, inplace=True)"
   ]
  },
  {
   "cell_type": "code",
   "execution_count": 9,
   "metadata": {
    "collapsed": false,
    "jupyter": {
     "outputs_hidden": false
    },
    "pycharm": {
     "name": "#%%\n"
    }
   },
   "outputs": [
    {
     "name": "stdout",
     "output_type": "stream",
     "text": [
      "   track_id  year           artist                        track  rank  \\\n",
      "0         0  1985   USA For Africa             We Are the World     1   \n",
      "1         1  1985             A-Ha                   Take On Me     2   \n",
      "2         2  1985        Foreigner  I Want to Know What Love Is     3   \n",
      "3         3  1985  Tears For Fears                        Shout     4   \n",
      "4         4  1985    Lionel Richie              Say You, Say Me     5   \n",
      "\n",
      "                                                link  \n",
      "0  /charts/top-100-songs/video/1985/USA-For-Afric...  \n",
      "1    /charts/top-100-songs/video/1985/AHa-Take-On-Me  \n",
      "2  /charts/top-100-songs/video/1985/Foreigner-I-W...  \n",
      "3  /charts/top-100-songs/video/1985/Tears-For-Fea...  \n",
      "4  /charts/top-100-songs/video/1985/Lionel-Richie...  \n"
     ]
    }
   ],
   "source": [
    "print(df.head())"
   ]
  },
  {
   "cell_type": "markdown",
   "metadata": {},
   "source": [
    "## Find Lyrics"
   ]
  },
  {
   "cell_type": "code",
   "execution_count": 10,
   "metadata": {
    "collapsed": false,
    "jupyter": {
     "outputs_hidden": false
    },
    "pycharm": {
     "name": "#%%\n"
    }
   },
   "outputs": [],
   "source": [
    "def find_lyrics(row):\n",
    "    try:\n",
    "        return genius.search_song(row[\"track\"], row[\"artist\"])\n",
    "    except:\n",
    "        return \"Error\""
   ]
  },
  {
   "cell_type": "markdown",
   "metadata": {},
   "source": []
  },
  {
   "cell_type": "code",
   "execution_count": 11,
   "metadata": {
    "collapsed": false,
    "jupyter": {
     "outputs_hidden": false
    },
    "pycharm": {
     "name": "#%%\n"
    }
   },
   "outputs": [
    {
     "data": {
      "text/plain": "  0%|          | 0/3595 [00:00<?, ?it/s]",
      "application/vnd.jupyter.widget-view+json": {
       "version_major": 2,
       "version_minor": 0,
       "model_id": "22f36cf2314a436597b89f592681e848"
      }
     },
     "metadata": {},
     "output_type": "display_data"
    }
   ],
   "source": [
    "df[\"lyrics\"] = df.progress_apply(find_lyrics, axis=1)\n",
    "df.to_pickle(\"22-04-21-lyrics-pickle\")"
   ]
  },
  {
   "cell_type": "code",
   "execution_count": 12,
   "metadata": {
    "collapsed": false,
    "jupyter": {
     "outputs_hidden": false
    },
    "pycharm": {
     "name": "#%%\n"
    }
   },
   "outputs": [],
   "source": [
    "# df.to_sql(\"tracks2\", lyrics_db)"
   ]
  },
  {
   "cell_type": "code",
   "execution_count": 13,
   "metadata": {
    "collapsed": false,
    "jupyter": {
     "outputs_hidden": false
    },
    "pycharm": {
     "name": "#%%\n"
    }
   },
   "outputs": [
    {
     "name": "stdout",
     "output_type": "stream",
     "text": [
      "<class 'pandas.core.frame.DataFrame'>\n",
      "RangeIndex: 3595 entries, 0 to 3594\n",
      "Data columns (total 7 columns):\n",
      " #   Column    Non-Null Count  Dtype \n",
      "---  ------    --------------  ----- \n",
      " 0   track_id  3595 non-null   int64 \n",
      " 1   year      3595 non-null   int64 \n",
      " 2   artist    3595 non-null   object\n",
      " 3   track     3595 non-null   object\n",
      " 4   rank      3595 non-null   int64 \n",
      " 5   link      3595 non-null   object\n",
      " 6   lyrics    3555 non-null   object\n",
      "dtypes: int64(3), object(4)\n",
      "memory usage: 196.7+ KB\n"
     ]
    }
   ],
   "source": [
    "df.info()"
   ]
  },
  {
   "cell_type": "code",
   "execution_count": 14,
   "metadata": {
    "collapsed": false,
    "jupyter": {
     "outputs_hidden": false
    },
    "pycharm": {
     "name": "#%%\n"
    }
   },
   "outputs": [
    {
     "data": {
      "text/plain": "  0%|          | 0/3595 [00:00<?, ?it/s]",
      "application/vnd.jupyter.widget-view+json": {
       "version_major": 2,
       "version_minor": 0,
       "model_id": "c86e2cac7c384cfe9f6c5dc047ed9c95"
      }
     },
     "metadata": {},
     "output_type": "display_data"
    }
   ],
   "source": [
    "df = df.rename({\"lyrics\": \"lyrics_object\"}, axis=1)\n",
    "df[\"lyrics\"] = df.progress_apply(\n",
    "    lambda row: row[\"lyrics_object\"].lyrics if row[\"lyrics_object\"] and not isinstance(row[\"lyrics_object\"],\n",
    "                                                                                       str) else None, axis=1)"
   ]
  },
  {
   "cell_type": "code",
   "execution_count": 1,
   "metadata": {
    "collapsed": false,
    "jupyter": {
     "outputs_hidden": false
    },
    "pycharm": {
     "name": "#%%\n"
    }
   },
   "outputs": [
    {
     "ename": "NameError",
     "evalue": "name 'df' is not defined",
     "output_type": "error",
     "traceback": [
      "\u001B[0;31m---------------------------------------------------------------------------\u001B[0m",
      "\u001B[0;31mNameError\u001B[0m                                 Traceback (most recent call last)",
      "Input \u001B[0;32mIn [1]\u001B[0m, in \u001B[0;36m<cell line: 1>\u001B[0;34m()\u001B[0m\n\u001B[0;32m----> 1\u001B[0m \u001B[43mdf\u001B[49m\u001B[38;5;241m.\u001B[39mdrop(\u001B[38;5;124m\"\u001B[39m\u001B[38;5;124mlyrics_object\u001B[39m\u001B[38;5;124m\"\u001B[39m, axis\u001B[38;5;241m=\u001B[39m\u001B[38;5;241m1\u001B[39m)\u001B[38;5;241m.\u001B[39mto_sql(\u001B[38;5;124m\"\u001B[39m\u001B[38;5;124mtracks\u001B[39m\u001B[38;5;124m\"\u001B[39m, lyrics_db, if_exists\u001B[38;5;241m=\u001B[39m\u001B[38;5;124m\"\u001B[39m\u001B[38;5;124mreplace\u001B[39m\u001B[38;5;124m\"\u001B[39m)\n",
      "\u001B[0;31mNameError\u001B[0m: name 'df' is not defined"
     ]
    }
   ],
   "source": [
    "df.drop(\"lyrics_object\", axis=1).to_sql(\"tracks\", lyrics_db, if_exists=\"replace\")"
   ]
  },
  {
   "cell_type": "code",
   "execution_count": 15,
   "outputs": [],
   "source": [],
   "metadata": {
    "collapsed": false,
    "pycharm": {
     "name": "#%%\n"
    }
   }
  }
 ],
 "metadata": {
  "kernelspec": {
   "name": "python3102jvsc74a57bd027746e818e79c47ba5cd0cb9e390b8fab72e028b2cf3835065a69537fa10f347",
   "language": "python",
   "display_name": "Python 3.10.2 ('Country')"
  },
  "language_info": {
   "codemirror_mode": {
    "name": "ipython",
    "version": 3
   },
   "file_extension": ".py",
   "mimetype": "text/x-python",
   "name": "python",
   "nbconvert_exporter": "python",
   "pygments_lexer": "ipython3",
   "version": "3.8.13"
  }
 },
 "nbformat": 4,
 "nbformat_minor": 4
}