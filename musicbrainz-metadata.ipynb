{
 "cells": [
  {
   "cell_type": "code",
   "execution_count": 1,
   "metadata": {
    "collapsed": true,
    "pycharm": {
     "name": "#%%\n"
    }
   },
   "outputs": [],
   "source": [
    "import musicbrainzngs\n",
    "from musicbrainzngs import WebServiceError\n",
    "\n",
    "musicbrainzngs.set_useragent(\"Nouserentered Song Analysis Project\", \"0.1.0\", contact=\"matthew.shu@yale.edu\"\n",
    "                             )"
   ]
  },
  {
   "cell_type": "code",
   "execution_count": 2,
   "outputs": [],
   "source": [
    "from difflib import SequenceMatcher\n",
    "\n",
    "# Modified from: https://stackoverflow.com/a/17388505\n",
    "def match(orig_name, found_name):\n",
    "    return SequenceMatcher(None, orig_name, found_name).ratio() > .7"
   ],
   "metadata": {
    "collapsed": false,
    "pycharm": {
     "name": "#%%\n"
    }
   }
  },
  {
   "cell_type": "code",
   "execution_count": 2,
   "outputs": [],
   "source": [],
   "metadata": {
    "collapsed": false,
    "pycharm": {
     "name": "#%%\n"
    }
   }
  },
  {
   "cell_type": "code",
   "execution_count": 3,
   "outputs": [],
   "source": [
    "def search_artist(artist_id: int, name: str):\n",
    "    try:\n",
    "        result = musicbrainzngs.search_artists(name)\n",
    "    except WebServiceError as exc:\n",
    "        print(\"Something went wrong with the request: %s\" % exc)\n",
    "    else:\n",
    "        artist = result[\"artist-list\"]\n",
    "        if len(artist) != 0 and match(artist[0][\"name\"], name):\n",
    "            # Currently just takes the top artist, isn't always great if there are multiple artists!\n",
    "            top_artist = artist[0]\n",
    "            top_artist[\"artist_id\"] = artist_id\n",
    "            return top_artist\n",
    "        else:\n",
    "            return {\"name\": name, \"artist_id\": artist_id}\n",
    "def search_artist_series(artist_id: int, name: str):\n",
    "    artist_data = search_artist(artist_id, name)\n",
    "    if artist_data:\n",
    "        return pd.json_normalize(artist_data).iloc[0]\n",
    "    else:\n",
    "        return"
   ],
   "metadata": {
    "collapsed": false,
    "pycharm": {
     "name": "#%%\n"
    }
   }
  },
  {
   "cell_type": "markdown",
   "source": [
    "# Load Data"
   ],
   "metadata": {
    "collapsed": false,
    "pycharm": {
     "name": "#%% md\n"
    }
   }
  },
  {
   "cell_type": "code",
   "execution_count": 4,
   "outputs": [],
   "source": [
    "%load_ext dotenv\n",
    "%dotenv\n",
    "\n",
    "import os\n",
    "import sqlite3\n",
    "import pandas as pd"
   ],
   "metadata": {
    "collapsed": false,
    "pycharm": {
     "name": "#%%\n"
    }
   }
  },
  {
   "cell_type": "code",
   "execution_count": 5,
   "outputs": [],
   "source": [
    "from tqdm.auto import tqdm\n",
    "tqdm.pandas()"
   ],
   "metadata": {
    "collapsed": false,
    "pycharm": {
     "name": "#%%\n"
    }
   }
  },
  {
   "cell_type": "code",
   "execution_count": 6,
   "outputs": [
    {
     "name": "stdout",
     "output_type": "stream",
     "text": [
      "   index  track_id  year           artist                        track  rank  \\\n",
      "0      0         0  1985   USA For Africa             We Are the World     1   \n",
      "1      1         1  1985             A-Ha                   Take On Me     2   \n",
      "2      2         2  1985        Foreigner  I Want to Know What Love Is     3   \n",
      "3      3         3  1985  Tears For Fears                        Shout     4   \n",
      "4      4         4  1985    Lionel Richie              Say You, Say Me     5   \n",
      "\n",
      "                                                link  \\\n",
      "0  /charts/top-100-songs/video/1985/USA-For-Afric...   \n",
      "1    /charts/top-100-songs/video/1985/AHa-Take-On-Me   \n",
      "2  /charts/top-100-songs/video/1985/Foreigner-I-W...   \n",
      "3  /charts/top-100-songs/video/1985/Tears-For-Fea...   \n",
      "4  /charts/top-100-songs/video/1985/Lionel-Richie...   \n",
      "\n",
      "                                              lyrics  \n",
      "0  We Are the World Lyrics\\nThere comes a time wh...  \n",
      "1                                               None  \n",
      "2  I Want to Know What Love Is Lyrics\\nI've gotta...  \n",
      "3  Shout Lyrics\\nShout, shout, let it all out\\nTh...  \n",
      "4  Say You, Say Me Lyrics\\nSay you, say me\\nSay i...  \n"
     ]
    }
   ],
   "source": [
    "SQL_FILEPATH = os.getenv(\"PLAYBACK_FILE\")\n",
    "lyrics_db = sqlite3.connect(SQL_FILEPATH)\n",
    "\n",
    "df = pd.read_sql_query(\"SELECT * FROM tracks\", lyrics_db)\n",
    "print(df.head())"
   ],
   "metadata": {
    "collapsed": false,
    "pycharm": {
     "name": "#%%\n"
    }
   }
  },
  {
   "cell_type": "markdown",
   "source": [
    "# Search Musicbrainz"
   ],
   "metadata": {
    "collapsed": false
   }
  },
  {
   "cell_type": "code",
   "execution_count": 7,
   "outputs": [
    {
     "data": {
      "text/plain": "   index  track_id  year           artist                        track  rank  \\\n0      0         0  1985   USA For Africa             We Are the World     1   \n1      1         1  1985             A-Ha                   Take On Me     2   \n2      2         2  1985        Foreigner  I Want to Know What Love Is     3   \n3      3         3  1985  Tears For Fears                        Shout     4   \n4      4         4  1985    Lionel Richie              Say You, Say Me     5   \n\n                                                link  \\\n0  /charts/top-100-songs/video/1985/USA-For-Afric...   \n1    /charts/top-100-songs/video/1985/AHa-Take-On-Me   \n2  /charts/top-100-songs/video/1985/Foreigner-I-W...   \n3  /charts/top-100-songs/video/1985/Tears-For-Fea...   \n4  /charts/top-100-songs/video/1985/Lionel-Richie...   \n\n                                              lyrics  \n0  We Are the World Lyrics\\nThere comes a time wh...  \n1                                               None  \n2  I Want to Know What Love Is Lyrics\\nI've gotta...  \n3  Shout Lyrics\\nShout, shout, let it all out\\nTh...  \n4  Say You, Say Me Lyrics\\nSay you, say me\\nSay i...  ",
      "text/html": "<div>\n<style scoped>\n    .dataframe tbody tr th:only-of-type {\n        vertical-align: middle;\n    }\n\n    .dataframe tbody tr th {\n        vertical-align: top;\n    }\n\n    .dataframe thead th {\n        text-align: right;\n    }\n</style>\n<table border=\"1\" class=\"dataframe\">\n  <thead>\n    <tr style=\"text-align: right;\">\n      <th></th>\n      <th>index</th>\n      <th>track_id</th>\n      <th>year</th>\n      <th>artist</th>\n      <th>track</th>\n      <th>rank</th>\n      <th>link</th>\n      <th>lyrics</th>\n    </tr>\n  </thead>\n  <tbody>\n    <tr>\n      <th>0</th>\n      <td>0</td>\n      <td>0</td>\n      <td>1985</td>\n      <td>USA For Africa</td>\n      <td>We Are the World</td>\n      <td>1</td>\n      <td>/charts/top-100-songs/video/1985/USA-For-Afric...</td>\n      <td>We Are the World Lyrics\\nThere comes a time wh...</td>\n    </tr>\n    <tr>\n      <th>1</th>\n      <td>1</td>\n      <td>1</td>\n      <td>1985</td>\n      <td>A-Ha</td>\n      <td>Take On Me</td>\n      <td>2</td>\n      <td>/charts/top-100-songs/video/1985/AHa-Take-On-Me</td>\n      <td>None</td>\n    </tr>\n    <tr>\n      <th>2</th>\n      <td>2</td>\n      <td>2</td>\n      <td>1985</td>\n      <td>Foreigner</td>\n      <td>I Want to Know What Love Is</td>\n      <td>3</td>\n      <td>/charts/top-100-songs/video/1985/Foreigner-I-W...</td>\n      <td>I Want to Know What Love Is Lyrics\\nI've gotta...</td>\n    </tr>\n    <tr>\n      <th>3</th>\n      <td>3</td>\n      <td>3</td>\n      <td>1985</td>\n      <td>Tears For Fears</td>\n      <td>Shout</td>\n      <td>4</td>\n      <td>/charts/top-100-songs/video/1985/Tears-For-Fea...</td>\n      <td>Shout Lyrics\\nShout, shout, let it all out\\nTh...</td>\n    </tr>\n    <tr>\n      <th>4</th>\n      <td>4</td>\n      <td>4</td>\n      <td>1985</td>\n      <td>Lionel Richie</td>\n      <td>Say You, Say Me</td>\n      <td>5</td>\n      <td>/charts/top-100-songs/video/1985/Lionel-Richie...</td>\n      <td>Say You, Say Me Lyrics\\nSay you, say me\\nSay i...</td>\n    </tr>\n  </tbody>\n</table>\n</div>"
     },
     "execution_count": 7,
     "metadata": {},
     "output_type": "execute_result"
    }
   ],
   "source": [
    "small_df = df.head()\n",
    "small_df"
   ],
   "metadata": {
    "collapsed": false,
    "pycharm": {
     "name": "#%%\n"
    }
   }
  },
  {
   "cell_type": "markdown",
   "source": [],
   "metadata": {
    "collapsed": false
   }
  },
  {
   "cell_type": "code",
   "execution_count": 8,
   "outputs": [],
   "source": [
    "# https://datascience.stackexchange.com/a/89267\n",
    "df['artist_id'] = pd.factorize(df['artist'])[0] + 1 # just don't want to start at 0"
   ],
   "metadata": {
    "collapsed": false,
    "pycharm": {
     "name": "#%%\n"
    }
   }
  },
  {
   "cell_type": "code",
   "execution_count": 9,
   "outputs": [
    {
     "name": "stdout",
     "output_type": "stream",
     "text": [
      "1811\n"
     ]
    }
   ],
   "source": [
    "artists = df.artist.unique()\n",
    "artists_head = artists\n",
    "print(artists_head.size)"
   ],
   "metadata": {
    "collapsed": false,
    "pycharm": {
     "name": "#%%\n"
    }
   }
  },
  {
   "cell_type": "code",
   "execution_count": 10,
   "outputs": [],
   "source": [
    "df_unique_artists = df.groupby('artist', as_index=False).first()"
   ],
   "metadata": {
    "collapsed": false,
    "pycharm": {
     "name": "#%%\n"
    }
   }
  },
  {
   "cell_type": "code",
   "execution_count": 11,
   "outputs": [
    {
     "data": {
      "text/plain": "  0%|          | 0/1811 [00:00<?, ?it/s]",
      "application/vnd.jupyter.widget-view+json": {
       "version_major": 2,
       "version_minor": 0,
       "model_id": "30b5dd84e1fd4d0d95ce5ca5073fcc23"
      }
     },
     "metadata": {},
     "output_type": "display_data"
    }
   ],
   "source": [
    "artists_df = df_unique_artists.progress_apply(lambda row: search_artist_series(row[\"artist_id\"], row[\"artist\"]), axis=1)"
   ],
   "metadata": {
    "collapsed": false,
    "pycharm": {
     "name": "#%%\n"
    }
   }
  },
  {
   "cell_type": "code",
   "execution_count": 12,
   "outputs": [],
   "source": [
    "artists_df.to_pickle(\"22-04-27-artists-pickle\")"
   ],
   "metadata": {
    "collapsed": false,
    "pycharm": {
     "name": "#%%\n"
    }
   }
  },
  {
   "cell_type": "code",
   "execution_count": 13,
   "outputs": [],
   "source": [
    "artists_df.columns = [i.replace('-', '_') for i in artists_df.columns]"
   ],
   "metadata": {
    "collapsed": false,
    "pycharm": {
     "name": "#%%\n"
    }
   }
  },
  {
   "cell_type": "code",
   "execution_count": 13,
   "outputs": [],
   "source": [],
   "metadata": {
    "collapsed": false,
    "pycharm": {
     "name": "#%%\n"
    }
   }
  },
  {
   "cell_type": "code",
   "execution_count": 14,
   "outputs": [],
   "source": [
    "df['artist_appearances'] = df.groupby('artist_id')['artist_id'].transform('count')"
   ],
   "metadata": {
    "collapsed": false,
    "pycharm": {
     "name": "#%%\n"
    }
   }
  },
  {
   "cell_type": "code",
   "execution_count": 15,
   "outputs": [],
   "source": [
    "artists_df = artists_df.rename(columns={\"id\": \"mb_id\"})"
   ],
   "metadata": {
    "collapsed": false,
    "pycharm": {
     "name": "#%%\n"
    }
   }
  },
  {
   "cell_type": "code",
   "execution_count": 16,
   "outputs": [
    {
     "data": {
      "text/plain": "3595"
     },
     "execution_count": 16,
     "metadata": {},
     "output_type": "execute_result"
    }
   ],
   "source": [
    "artists_df.applymap(str).to_sql(\"artists\", lyrics_db, if_exists=\"replace\")\n",
    "df.to_sql(\"tracks\", lyrics_db, if_exists=\"replace\")"
   ],
   "metadata": {
    "collapsed": false,
    "pycharm": {
     "name": "#%%\n"
    }
   }
  }
 ],
 "metadata": {
  "kernelspec": {
   "name": "python3102jvsc74a57bd027746e818e79c47ba5cd0cb9e390b8fab72e028b2cf3835065a69537fa10f347",
   "language": "python",
   "display_name": "Python 3.10.2 ('Country')"
  },
  "language_info": {
   "codemirror_mode": {
    "name": "ipython",
    "version": 2
   },
   "file_extension": ".py",
   "mimetype": "text/x-python",
   "name": "python",
   "nbconvert_exporter": "python",
   "pygments_lexer": "ipython2",
   "version": "2.7.6"
  }
 },
 "nbformat": 4,
 "nbformat_minor": 0
}